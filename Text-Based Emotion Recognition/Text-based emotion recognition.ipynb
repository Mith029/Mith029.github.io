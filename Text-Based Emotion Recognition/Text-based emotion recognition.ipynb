{
 "cells": [
  {
   "cell_type": "code",
   "execution_count": 16,
   "id": "d80d3092-a577-4a69-983e-13cb065e264f",
   "metadata": {},
   "outputs": [
    {
     "data": {
      "text/html": [
       "<div>\n",
       "<style scoped>\n",
       "    .dataframe tbody tr th:only-of-type {\n",
       "        vertical-align: middle;\n",
       "    }\n",
       "\n",
       "    .dataframe tbody tr th {\n",
       "        vertical-align: top;\n",
       "    }\n",
       "\n",
       "    .dataframe thead th {\n",
       "        text-align: right;\n",
       "    }\n",
       "</style>\n",
       "<table border=\"1\" class=\"dataframe\">\n",
       "  <thead>\n",
       "    <tr style=\"text-align: right;\">\n",
       "      <th></th>\n",
       "      <th>EMOT</th>\n",
       "      <th>Field1</th>\n",
       "      <th>SIT</th>\n",
       "    </tr>\n",
       "  </thead>\n",
       "  <tbody>\n",
       "    <tr>\n",
       "      <th>0</th>\n",
       "      <td>1</td>\n",
       "      <td>joy</td>\n",
       "      <td>During the period of falling in love, each tim...</td>\n",
       "    </tr>\n",
       "    <tr>\n",
       "      <th>1</th>\n",
       "      <td>2</td>\n",
       "      <td>fear</td>\n",
       "      <td>When I was involved in a traffic accident.</td>\n",
       "    </tr>\n",
       "    <tr>\n",
       "      <th>2</th>\n",
       "      <td>3</td>\n",
       "      <td>anger</td>\n",
       "      <td>When I was driving home after  several days of...</td>\n",
       "    </tr>\n",
       "    <tr>\n",
       "      <th>3</th>\n",
       "      <td>4</td>\n",
       "      <td>sadness</td>\n",
       "      <td>When I lost the person who meant the most to me.</td>\n",
       "    </tr>\n",
       "    <tr>\n",
       "      <th>4</th>\n",
       "      <td>5</td>\n",
       "      <td>disgust</td>\n",
       "      <td>The time I knocked a deer down - the sight of ...</td>\n",
       "    </tr>\n",
       "    <tr>\n",
       "      <th>...</th>\n",
       "      <td>...</td>\n",
       "      <td>...</td>\n",
       "      <td>...</td>\n",
       "    </tr>\n",
       "    <tr>\n",
       "      <th>7498</th>\n",
       "      <td>3</td>\n",
       "      <td>anger</td>\n",
       "      <td>Two years back someone invited me to be the tu...</td>\n",
       "    </tr>\n",
       "    <tr>\n",
       "      <th>7499</th>\n",
       "      <td>4</td>\n",
       "      <td>sadness</td>\n",
       "      <td>I had taken the responsibility to do something...</td>\n",
       "    </tr>\n",
       "    <tr>\n",
       "      <th>7500</th>\n",
       "      <td>5</td>\n",
       "      <td>disgust</td>\n",
       "      <td>I was at home and I heard a loud sound of spit...</td>\n",
       "    </tr>\n",
       "    <tr>\n",
       "      <th>7501</th>\n",
       "      <td>6</td>\n",
       "      <td>shame</td>\n",
       "      <td>I did not do the homework that the teacher had...</td>\n",
       "    </tr>\n",
       "    <tr>\n",
       "      <th>7502</th>\n",
       "      <td>7</td>\n",
       "      <td>guilt</td>\n",
       "      <td>I had shouted at my younger brother and he was...</td>\n",
       "    </tr>\n",
       "  </tbody>\n",
       "</table>\n",
       "<p>7503 rows × 3 columns</p>\n",
       "</div>"
      ],
      "text/plain": [
       "      EMOT   Field1                                                SIT\n",
       "0        1      joy  During the period of falling in love, each tim...\n",
       "1        2     fear         When I was involved in a traffic accident.\n",
       "2        3    anger  When I was driving home after  several days of...\n",
       "3        4  sadness  When I lost the person who meant the most to me. \n",
       "4        5  disgust  The time I knocked a deer down - the sight of ...\n",
       "...    ...      ...                                                ...\n",
       "7498     3    anger  Two years back someone invited me to be the tu...\n",
       "7499     4  sadness  I had taken the responsibility to do something...\n",
       "7500     5  disgust  I was at home and I heard a loud sound of spit...\n",
       "7501     6    shame  I did not do the homework that the teacher had...\n",
       "7502     7    guilt  I had shouted at my younger brother and he was...\n",
       "\n",
       "[7503 rows x 3 columns]"
      ]
     },
     "execution_count": 16,
     "metadata": {},
     "output_type": "execute_result"
    }
   ],
   "source": [
    "import pandas as pd\n",
    "import csv    \n",
    "import warnings\n",
    "warnings.filterwarnings(\"ignore\")\n",
    "\n",
    "df_isear = pd.read_csv(\"isear.csv\", sep= \"|\", engine='python', error_bad_lines=False, quoting=csv.QUOTE_NONE,warn_bad_lines=False)\n",
    "df_wassa = pd.read_csv(\"emotion-labels-train.csv\")\n",
    "df_isear[[\"EMOT\",\"Field1\",\"SIT\"]]"
   ]
  },
  {
   "cell_type": "code",
   "execution_count": 4,
   "id": "f4e2b5cc-9a0a-4dee-a29c-f0fa1e134cc5",
   "metadata": {},
   "outputs": [
    {
     "name": "stdout",
     "output_type": "stream",
     "text": [
      "0    During the period of falling in love, each tim...\n",
      "1           When I was involved in a traffic accident.\n",
      "2    When I was driving home after  several days of...\n",
      "3    When I lost the person who meant the most to me. \n",
      "4    The time I knocked a deer down - the sight of ...\n",
      "Name: SIT, dtype: object\n"
     ]
    }
   ],
   "source": [
    "print(df_isear.SIT.head(5))"
   ]
  },
  {
   "cell_type": "code",
   "execution_count": 5,
   "id": "6b983ecd-a405-4c6f-9291-5baeba48f872",
   "metadata": {},
   "outputs": [
    {
     "data": {
      "text/plain": [
       "Index(['ID', 'CITY', 'COUN', 'SUBJ', 'SEX', 'AGE', 'RELI', 'PRAC', 'FOCC',\n",
       "       'MOCC', 'FIEL', 'EMOT', 'WHEN', 'LONG', 'INTS', 'ERGO', 'TROPHO',\n",
       "       'TEMPER', 'EXPRES', 'MOVE', 'EXP1', 'EXP2', 'EXP10', 'PARAL', 'CON',\n",
       "       'EXPC', 'PLEA', 'PLAN', 'FAIR', 'CAUS', 'COPING', 'MORL', 'SELF',\n",
       "       'RELA', 'VERBAL', 'NEUTRO', 'Field1', 'Field3', 'Field2', 'MYKEY',\n",
       "       'SIT', 'STATE', ',,,,,,,,,'],\n",
       "      dtype='object')"
      ]
     },
     "execution_count": 5,
     "metadata": {},
     "output_type": "execute_result"
    }
   ],
   "source": [
    "df_isear.columns"
   ]
  },
  {
   "cell_type": "code",
   "execution_count": null,
   "id": "3567ffb2-8f61-4e05-9c3a-9d742661ef60",
   "metadata": {},
   "outputs": [],
   "source": []
  }
 ],
 "metadata": {
  "kernelspec": {
   "display_name": "Python 3 (ipykernel)",
   "language": "python",
   "name": "python3"
  },
  "language_info": {
   "codemirror_mode": {
    "name": "ipython",
    "version": 3
   },
   "file_extension": ".py",
   "mimetype": "text/x-python",
   "name": "python",
   "nbconvert_exporter": "python",
   "pygments_lexer": "ipython3",
   "version": "3.9.12"
  }
 },
 "nbformat": 4,
 "nbformat_minor": 5
}
