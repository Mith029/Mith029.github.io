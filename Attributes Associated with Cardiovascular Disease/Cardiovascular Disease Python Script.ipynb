{
 "cells": [
  {
   "cell_type": "code",
   "execution_count": 1,
   "id": "45de7567-d45c-415e-99a7-dbdd4bdf7b58",
   "metadata": {},
   "outputs": [],
   "source": [
    "# Mithil Patel \n",
    "# DSC 530 Final Project\n",
    "# 13th August, 2022\n",
    "\n",
    "# Importing libraries\n",
    "import thinkstats2\n",
    "import numpy as np\n",
    "import nsfg\n",
    "import pandas as pd\n",
    "import statsmodels.formula.api as smf\n",
    "import thinkplot\n",
    "import os\n",
    "\n",
    "import seaborn as sns\n",
    "import matplotlib.pyplot as plt"
   ]
  },
  {
   "cell_type": "code",
   "execution_count": 2,
   "id": "50995341-ee04-403c-845d-ef10272c5868",
   "metadata": {},
   "outputs": [
    {
     "name": "stdout",
     "output_type": "stream",
     "text": [
      "AxesSubplot(0.125,0.125;0.62x0.755)\n"
     ]
    },
    {
     "data": {
      "text/html": [
       "<div>\n",
       "<style scoped>\n",
       "    .dataframe tbody tr th:only-of-type {\n",
       "        vertical-align: middle;\n",
       "    }\n",
       "\n",
       "    .dataframe tbody tr th {\n",
       "        vertical-align: top;\n",
       "    }\n",
       "\n",
       "    .dataframe thead th {\n",
       "        text-align: right;\n",
       "    }\n",
       "</style>\n",
       "<table border=\"1\" class=\"dataframe\">\n",
       "  <thead>\n",
       "    <tr style=\"text-align: right;\">\n",
       "      <th></th>\n",
       "      <th>age</th>\n",
       "      <th>sex</th>\n",
       "      <th>cp</th>\n",
       "      <th>trestbps</th>\n",
       "      <th>chol</th>\n",
       "      <th>fbs</th>\n",
       "      <th>restecg</th>\n",
       "      <th>thalach</th>\n",
       "      <th>exang</th>\n",
       "      <th>oldpeak</th>\n",
       "      <th>slope</th>\n",
       "      <th>ca</th>\n",
       "      <th>thal</th>\n",
       "      <th>target</th>\n",
       "    </tr>\n",
       "  </thead>\n",
       "  <tbody>\n",
       "    <tr>\n",
       "      <th>age</th>\n",
       "      <td>1.000000</td>\n",
       "      <td>-0.103240</td>\n",
       "      <td>-0.071966</td>\n",
       "      <td>0.271121</td>\n",
       "      <td>0.219823</td>\n",
       "      <td>0.121243</td>\n",
       "      <td>-0.132696</td>\n",
       "      <td>-0.390227</td>\n",
       "      <td>0.088163</td>\n",
       "      <td>0.208137</td>\n",
       "      <td>-0.169105</td>\n",
       "      <td>0.271551</td>\n",
       "      <td>0.072297</td>\n",
       "      <td>-0.229324</td>\n",
       "    </tr>\n",
       "    <tr>\n",
       "      <th>sex</th>\n",
       "      <td>-0.103240</td>\n",
       "      <td>1.000000</td>\n",
       "      <td>-0.041119</td>\n",
       "      <td>-0.078974</td>\n",
       "      <td>-0.198258</td>\n",
       "      <td>0.027200</td>\n",
       "      <td>-0.055117</td>\n",
       "      <td>-0.049365</td>\n",
       "      <td>0.139157</td>\n",
       "      <td>0.084687</td>\n",
       "      <td>-0.026666</td>\n",
       "      <td>0.111729</td>\n",
       "      <td>0.198424</td>\n",
       "      <td>-0.279501</td>\n",
       "    </tr>\n",
       "    <tr>\n",
       "      <th>cp</th>\n",
       "      <td>-0.071966</td>\n",
       "      <td>-0.041119</td>\n",
       "      <td>1.000000</td>\n",
       "      <td>0.038177</td>\n",
       "      <td>-0.081641</td>\n",
       "      <td>0.079294</td>\n",
       "      <td>0.043581</td>\n",
       "      <td>0.306839</td>\n",
       "      <td>-0.401513</td>\n",
       "      <td>-0.174733</td>\n",
       "      <td>0.131633</td>\n",
       "      <td>-0.176206</td>\n",
       "      <td>-0.163341</td>\n",
       "      <td>0.434854</td>\n",
       "    </tr>\n",
       "    <tr>\n",
       "      <th>trestbps</th>\n",
       "      <td>0.271121</td>\n",
       "      <td>-0.078974</td>\n",
       "      <td>0.038177</td>\n",
       "      <td>1.000000</td>\n",
       "      <td>0.127977</td>\n",
       "      <td>0.181767</td>\n",
       "      <td>-0.123794</td>\n",
       "      <td>-0.039264</td>\n",
       "      <td>0.061197</td>\n",
       "      <td>0.187434</td>\n",
       "      <td>-0.120445</td>\n",
       "      <td>0.104554</td>\n",
       "      <td>0.059276</td>\n",
       "      <td>-0.138772</td>\n",
       "    </tr>\n",
       "    <tr>\n",
       "      <th>chol</th>\n",
       "      <td>0.219823</td>\n",
       "      <td>-0.198258</td>\n",
       "      <td>-0.081641</td>\n",
       "      <td>0.127977</td>\n",
       "      <td>1.000000</td>\n",
       "      <td>0.026917</td>\n",
       "      <td>-0.147410</td>\n",
       "      <td>-0.021772</td>\n",
       "      <td>0.067382</td>\n",
       "      <td>0.064880</td>\n",
       "      <td>-0.014248</td>\n",
       "      <td>0.074259</td>\n",
       "      <td>0.100244</td>\n",
       "      <td>-0.099966</td>\n",
       "    </tr>\n",
       "    <tr>\n",
       "      <th>fbs</th>\n",
       "      <td>0.121243</td>\n",
       "      <td>0.027200</td>\n",
       "      <td>0.079294</td>\n",
       "      <td>0.181767</td>\n",
       "      <td>0.026917</td>\n",
       "      <td>1.000000</td>\n",
       "      <td>-0.104051</td>\n",
       "      <td>-0.008866</td>\n",
       "      <td>0.049261</td>\n",
       "      <td>0.010859</td>\n",
       "      <td>-0.061902</td>\n",
       "      <td>0.137156</td>\n",
       "      <td>-0.042177</td>\n",
       "      <td>-0.041164</td>\n",
       "    </tr>\n",
       "    <tr>\n",
       "      <th>restecg</th>\n",
       "      <td>-0.132696</td>\n",
       "      <td>-0.055117</td>\n",
       "      <td>0.043581</td>\n",
       "      <td>-0.123794</td>\n",
       "      <td>-0.147410</td>\n",
       "      <td>-0.104051</td>\n",
       "      <td>1.000000</td>\n",
       "      <td>0.048411</td>\n",
       "      <td>-0.065606</td>\n",
       "      <td>-0.050114</td>\n",
       "      <td>0.086086</td>\n",
       "      <td>-0.078072</td>\n",
       "      <td>-0.020504</td>\n",
       "      <td>0.134468</td>\n",
       "    </tr>\n",
       "    <tr>\n",
       "      <th>thalach</th>\n",
       "      <td>-0.390227</td>\n",
       "      <td>-0.049365</td>\n",
       "      <td>0.306839</td>\n",
       "      <td>-0.039264</td>\n",
       "      <td>-0.021772</td>\n",
       "      <td>-0.008866</td>\n",
       "      <td>0.048411</td>\n",
       "      <td>1.000000</td>\n",
       "      <td>-0.380281</td>\n",
       "      <td>-0.349796</td>\n",
       "      <td>0.395308</td>\n",
       "      <td>-0.207888</td>\n",
       "      <td>-0.098068</td>\n",
       "      <td>0.422895</td>\n",
       "    </tr>\n",
       "    <tr>\n",
       "      <th>exang</th>\n",
       "      <td>0.088163</td>\n",
       "      <td>0.139157</td>\n",
       "      <td>-0.401513</td>\n",
       "      <td>0.061197</td>\n",
       "      <td>0.067382</td>\n",
       "      <td>0.049261</td>\n",
       "      <td>-0.065606</td>\n",
       "      <td>-0.380281</td>\n",
       "      <td>1.000000</td>\n",
       "      <td>0.310844</td>\n",
       "      <td>-0.267335</td>\n",
       "      <td>0.107849</td>\n",
       "      <td>0.197201</td>\n",
       "      <td>-0.438029</td>\n",
       "    </tr>\n",
       "    <tr>\n",
       "      <th>oldpeak</th>\n",
       "      <td>0.208137</td>\n",
       "      <td>0.084687</td>\n",
       "      <td>-0.174733</td>\n",
       "      <td>0.187434</td>\n",
       "      <td>0.064880</td>\n",
       "      <td>0.010859</td>\n",
       "      <td>-0.050114</td>\n",
       "      <td>-0.349796</td>\n",
       "      <td>0.310844</td>\n",
       "      <td>1.000000</td>\n",
       "      <td>-0.575189</td>\n",
       "      <td>0.221816</td>\n",
       "      <td>0.202672</td>\n",
       "      <td>-0.438441</td>\n",
       "    </tr>\n",
       "    <tr>\n",
       "      <th>slope</th>\n",
       "      <td>-0.169105</td>\n",
       "      <td>-0.026666</td>\n",
       "      <td>0.131633</td>\n",
       "      <td>-0.120445</td>\n",
       "      <td>-0.014248</td>\n",
       "      <td>-0.061902</td>\n",
       "      <td>0.086086</td>\n",
       "      <td>0.395308</td>\n",
       "      <td>-0.267335</td>\n",
       "      <td>-0.575189</td>\n",
       "      <td>1.000000</td>\n",
       "      <td>-0.073440</td>\n",
       "      <td>-0.094090</td>\n",
       "      <td>0.345512</td>\n",
       "    </tr>\n",
       "    <tr>\n",
       "      <th>ca</th>\n",
       "      <td>0.271551</td>\n",
       "      <td>0.111729</td>\n",
       "      <td>-0.176206</td>\n",
       "      <td>0.104554</td>\n",
       "      <td>0.074259</td>\n",
       "      <td>0.137156</td>\n",
       "      <td>-0.078072</td>\n",
       "      <td>-0.207888</td>\n",
       "      <td>0.107849</td>\n",
       "      <td>0.221816</td>\n",
       "      <td>-0.073440</td>\n",
       "      <td>1.000000</td>\n",
       "      <td>0.149014</td>\n",
       "      <td>-0.382085</td>\n",
       "    </tr>\n",
       "    <tr>\n",
       "      <th>thal</th>\n",
       "      <td>0.072297</td>\n",
       "      <td>0.198424</td>\n",
       "      <td>-0.163341</td>\n",
       "      <td>0.059276</td>\n",
       "      <td>0.100244</td>\n",
       "      <td>-0.042177</td>\n",
       "      <td>-0.020504</td>\n",
       "      <td>-0.098068</td>\n",
       "      <td>0.197201</td>\n",
       "      <td>0.202672</td>\n",
       "      <td>-0.094090</td>\n",
       "      <td>0.149014</td>\n",
       "      <td>1.000000</td>\n",
       "      <td>-0.337838</td>\n",
       "    </tr>\n",
       "    <tr>\n",
       "      <th>target</th>\n",
       "      <td>-0.229324</td>\n",
       "      <td>-0.279501</td>\n",
       "      <td>0.434854</td>\n",
       "      <td>-0.138772</td>\n",
       "      <td>-0.099966</td>\n",
       "      <td>-0.041164</td>\n",
       "      <td>0.134468</td>\n",
       "      <td>0.422895</td>\n",
       "      <td>-0.438029</td>\n",
       "      <td>-0.438441</td>\n",
       "      <td>0.345512</td>\n",
       "      <td>-0.382085</td>\n",
       "      <td>-0.337838</td>\n",
       "      <td>1.000000</td>\n",
       "    </tr>\n",
       "  </tbody>\n",
       "</table>\n",
       "</div>"
      ],
      "text/plain": [
       "               age       sex        cp  trestbps      chol       fbs  \\\n",
       "age       1.000000 -0.103240 -0.071966  0.271121  0.219823  0.121243   \n",
       "sex      -0.103240  1.000000 -0.041119 -0.078974 -0.198258  0.027200   \n",
       "cp       -0.071966 -0.041119  1.000000  0.038177 -0.081641  0.079294   \n",
       "trestbps  0.271121 -0.078974  0.038177  1.000000  0.127977  0.181767   \n",
       "chol      0.219823 -0.198258 -0.081641  0.127977  1.000000  0.026917   \n",
       "fbs       0.121243  0.027200  0.079294  0.181767  0.026917  1.000000   \n",
       "restecg  -0.132696 -0.055117  0.043581 -0.123794 -0.147410 -0.104051   \n",
       "thalach  -0.390227 -0.049365  0.306839 -0.039264 -0.021772 -0.008866   \n",
       "exang     0.088163  0.139157 -0.401513  0.061197  0.067382  0.049261   \n",
       "oldpeak   0.208137  0.084687 -0.174733  0.187434  0.064880  0.010859   \n",
       "slope    -0.169105 -0.026666  0.131633 -0.120445 -0.014248 -0.061902   \n",
       "ca        0.271551  0.111729 -0.176206  0.104554  0.074259  0.137156   \n",
       "thal      0.072297  0.198424 -0.163341  0.059276  0.100244 -0.042177   \n",
       "target   -0.229324 -0.279501  0.434854 -0.138772 -0.099966 -0.041164   \n",
       "\n",
       "           restecg   thalach     exang   oldpeak     slope        ca  \\\n",
       "age      -0.132696 -0.390227  0.088163  0.208137 -0.169105  0.271551   \n",
       "sex      -0.055117 -0.049365  0.139157  0.084687 -0.026666  0.111729   \n",
       "cp        0.043581  0.306839 -0.401513 -0.174733  0.131633 -0.176206   \n",
       "trestbps -0.123794 -0.039264  0.061197  0.187434 -0.120445  0.104554   \n",
       "chol     -0.147410 -0.021772  0.067382  0.064880 -0.014248  0.074259   \n",
       "fbs      -0.104051 -0.008866  0.049261  0.010859 -0.061902  0.137156   \n",
       "restecg   1.000000  0.048411 -0.065606 -0.050114  0.086086 -0.078072   \n",
       "thalach   0.048411  1.000000 -0.380281 -0.349796  0.395308 -0.207888   \n",
       "exang    -0.065606 -0.380281  1.000000  0.310844 -0.267335  0.107849   \n",
       "oldpeak  -0.050114 -0.349796  0.310844  1.000000 -0.575189  0.221816   \n",
       "slope     0.086086  0.395308 -0.267335 -0.575189  1.000000 -0.073440   \n",
       "ca       -0.078072 -0.207888  0.107849  0.221816 -0.073440  1.000000   \n",
       "thal     -0.020504 -0.098068  0.197201  0.202672 -0.094090  0.149014   \n",
       "target    0.134468  0.422895 -0.438029 -0.438441  0.345512 -0.382085   \n",
       "\n",
       "              thal    target  \n",
       "age       0.072297 -0.229324  \n",
       "sex       0.198424 -0.279501  \n",
       "cp       -0.163341  0.434854  \n",
       "trestbps  0.059276 -0.138772  \n",
       "chol      0.100244 -0.099966  \n",
       "fbs      -0.042177 -0.041164  \n",
       "restecg  -0.020504  0.134468  \n",
       "thalach  -0.098068  0.422895  \n",
       "exang     0.197201 -0.438029  \n",
       "oldpeak   0.202672 -0.438441  \n",
       "slope    -0.094090  0.345512  \n",
       "ca        0.149014 -0.382085  \n",
       "thal      1.000000 -0.337838  \n",
       "target   -0.337838  1.000000  "
      ]
     },
     "execution_count": 2,
     "metadata": {},
     "output_type": "execute_result"
    },
    {
     "data": {
      "image/png": "[encoded data removed]",
      "text/plain": [
       "<Figure size 432x288 with 2 Axes>"
      ]
     },
     "metadata": {
      "needs_background": "light"
     },
     "output_type": "display_data"
    }
   ],
   "source": [
    "# Setting directory\n",
    "os.chdir(\"/Users/Mithil_Patel/Desktop/\")\n",
    "\n",
    "# importing data\n",
    "dataframe = pd.read_csv(\"heart.csv\")\n",
    "\n",
    "# Generating a correlation matrix to determine correlation between variables\n",
    "print(sns.heatmap(dataframe.corr()))\n",
    "dataframe.corr()"
   ]
  },
  {
   "cell_type": "code",
   "execution_count": 3,
   "id": "608839c9-c135-486a-a840-b30964b9612c",
   "metadata": {},
   "outputs": [],
   "source": [
    "#Checking for empty values\n",
    "dataframe.isnull().sum().sum()\n",
    "\n",
    "# Convert oldpeak datatype from float to integer\n",
    "dataframe[['oldpeak']] = dataframe[['oldpeak']].astype(int)\n",
    "\n",
    "# Selecting specific columns\n",
    "df = dataframe[['cp','thalach','exang','oldpeak','slope','target']]"
   ]
  },
  {
   "cell_type": "code",
   "execution_count": 4,
   "id": "eecab20b-f89f-4598-8040-464d0b633991",
   "metadata": {},
   "outputs": [
    {
     "data": {
      "image/png": "[encoded data removed]",
      "text/plain": [
       "<Figure size 432x288 with 6 Axes>"
      ]
     },
     "metadata": {
      "needs_background": "light"
     },
     "output_type": "display_data"
    }
   ],
   "source": [
    "# Display histogram\n",
    "histo = df.hist(color='k', alpha=0.5, bins=10)"
   ]
  },
  {
   "cell_type": "code",
   "execution_count": 5,
   "id": "9a2703e6-8fca-4291-95a0-1dedf1ddc248",
   "metadata": {},
   "outputs": [
    {
     "data": {
      "image/png": "[encoded data removed]",
      "text/plain": [
       "<Figure size 432x288 with 1 Axes>"
      ]
     },
     "metadata": {
      "needs_background": "light"
     },
     "output_type": "display_data"
    },
    {
     "data": {
      "image/png": "[encoded data removed]",
      "text/plain": [
       "<Figure size 432x288 with 1 Axes>"
      ]
     },
     "metadata": {
      "needs_background": "light"
     },
     "output_type": "display_data"
    }
   ],
   "source": [
    "# Plotting boxplots\n",
    "df_boxplot = dataframe[['cp','exang','oldpeak','slope','target']]\n",
    "labels = ['cp','exang','oldpeak','slope','target']\n",
    "\n",
    "plt.boxplot(df_boxplot, vert=True,  patch_artist=True, labels=labels) \n",
    "plt.ylabel('observed value')\n",
    "plt.title('Multiple Box Plot : Vertical Version')\n",
    "plt.show()\n",
    "\n",
    "# df.boxplot(column=[\"thalach\"],grid=False)\n",
    "thalach_plt = plt.boxplot(df[\"thalach\"],vert=True, patch_artist=True, labels=[\"thalach\"])"
   ]
  },
  {
   "cell_type": "code",
   "execution_count": 6,
   "id": "11bcd7ea-5d57-4b41-81dc-6127aba998ba",
   "metadata": {},
   "outputs": [],
   "source": [
    "# Outlier handling by removing rows\n",
    "columns = ['oldpeak', 'thalach'] # The columns you want to search for outliers in\n",
    "\n",
    "# Calculate quantiles and IQR\n",
    "Q1 = df[columns].quantile(0.25) # Same as np.percentile but maps (0,1) and not (0,100)\n",
    "Q3 = df[columns].quantile(0.75)\n",
    "IQR = Q3 - Q1\n",
    "\n",
    "# Return a boolean array of the rows with (any) non-outlier column values\n",
    "condition = ~((df[columns] < (Q1 - 1.5 * IQR)) | (df[columns] > (Q3 + 1.5 * IQR))).any(axis=1)\n",
    "\n",
    "# Filter our dataframe based on condition\n",
    "df = df[condition]"
   ]
  },
  {
   "cell_type": "code",
   "execution_count": 7,
   "id": "5cfef3f4-33e5-4530-9630-0d8035512a07",
   "metadata": {},
   "outputs": [
    {
     "data": {
      "text/html": [
       "<div>\n",
       "<style scoped>\n",
       "    .dataframe tbody tr th:only-of-type {\n",
       "        vertical-align: middle;\n",
       "    }\n",
       "\n",
       "    .dataframe tbody tr th {\n",
       "        vertical-align: top;\n",
       "    }\n",
       "\n",
       "    .dataframe thead th {\n",
       "        text-align: right;\n",
       "    }\n",
       "</style>\n",
       "<table border=\"1\" class=\"dataframe\">\n",
       "  <thead>\n",
       "    <tr style=\"text-align: right;\">\n",
       "      <th></th>\n",
       "      <th>cp</th>\n",
       "      <th>thalach</th>\n",
       "      <th>exang</th>\n",
       "      <th>oldpeak</th>\n",
       "      <th>slope</th>\n",
       "      <th>target</th>\n",
       "    </tr>\n",
       "  </thead>\n",
       "  <tbody>\n",
       "    <tr>\n",
       "      <th>min</th>\n",
       "      <td>0.000000</td>\n",
       "      <td>88.000000</td>\n",
       "      <td>0.000000</td>\n",
       "      <td>0.000000</td>\n",
       "      <td>0.000000</td>\n",
       "      <td>0.000000</td>\n",
       "    </tr>\n",
       "    <tr>\n",
       "      <th>max</th>\n",
       "      <td>3.000000</td>\n",
       "      <td>202.000000</td>\n",
       "      <td>1.000000</td>\n",
       "      <td>2.000000</td>\n",
       "      <td>2.000000</td>\n",
       "      <td>1.000000</td>\n",
       "    </tr>\n",
       "    <tr>\n",
       "      <th>median</th>\n",
       "      <td>1.000000</td>\n",
       "      <td>154.000000</td>\n",
       "      <td>0.000000</td>\n",
       "      <td>0.000000</td>\n",
       "      <td>1.000000</td>\n",
       "      <td>1.000000</td>\n",
       "    </tr>\n",
       "    <tr>\n",
       "      <th>skew</th>\n",
       "      <td>0.448170</td>\n",
       "      <td>-0.500627</td>\n",
       "      <td>0.820841</td>\n",
       "      <td>0.933218</td>\n",
       "      <td>-0.495498</td>\n",
       "      <td>-0.222994</td>\n",
       "    </tr>\n",
       "    <tr>\n",
       "      <th>mean</th>\n",
       "      <td>0.987111</td>\n",
       "      <td>150.012889</td>\n",
       "      <td>0.310419</td>\n",
       "      <td>0.540279</td>\n",
       "      <td>1.450054</td>\n",
       "      <td>0.555317</td>\n",
       "    </tr>\n",
       "  </tbody>\n",
       "</table>\n",
       "</div>"
      ],
      "text/plain": [
       "              cp     thalach     exang   oldpeak     slope    target\n",
       "min     0.000000   88.000000  0.000000  0.000000  0.000000  0.000000\n",
       "max     3.000000  202.000000  1.000000  2.000000  2.000000  1.000000\n",
       "median  1.000000  154.000000  0.000000  0.000000  1.000000  1.000000\n",
       "skew    0.448170   -0.500627  0.820841  0.933218 -0.495498 -0.222994\n",
       "mean    0.987111  150.012889  0.310419  0.540279  1.450054  0.555317"
      ]
     },
     "execution_count": 7,
     "metadata": {},
     "output_type": "execute_result"
    }
   ],
   "source": [
    "df.agg(\n",
    "    {\n",
    "    'cp': [\"min\", \"max\", \"median\", \"skew\", \"mean\"],\n",
    "    'thalach': [\"min\", \"max\", \"median\", \"skew\", \"mean\"],\n",
    "    'exang': [\"min\", \"max\", \"median\", \"skew\", \"mean\"],\n",
    "    'oldpeak': [\"min\", \"max\", \"median\", \"skew\", \"mean\"],\n",
    "    'slope': [\"min\", \"max\", \"median\", \"skew\", \"mean\"],\n",
    "    'target': [\"min\", \"max\", \"median\", \"skew\",\"mean\"],\n",
    "    })"
   ]
  },
  {
   "cell_type": "code",
   "execution_count": 8,
   "id": "7d1135e1-3191-4725-9a36-5b02b08e81e5",
   "metadata": {},
   "outputs": [
    {
     "data": {
      "text/html": [
       "<div>\n",
       "<style scoped>\n",
       "    .dataframe tbody tr th:only-of-type {\n",
       "        vertical-align: middle;\n",
       "    }\n",
       "\n",
       "    .dataframe tbody tr th {\n",
       "        vertical-align: top;\n",
       "    }\n",
       "\n",
       "    .dataframe thead th {\n",
       "        text-align: right;\n",
       "    }\n",
       "</style>\n",
       "<table border=\"1\" class=\"dataframe\">\n",
       "  <thead>\n",
       "    <tr style=\"text-align: right;\">\n",
       "      <th></th>\n",
       "      <th>cp</th>\n",
       "      <th>thalach</th>\n",
       "      <th>exang</th>\n",
       "      <th>oldpeak</th>\n",
       "      <th>slope</th>\n",
       "      <th>target</th>\n",
       "    </tr>\n",
       "  </thead>\n",
       "  <tbody>\n",
       "    <tr>\n",
       "      <th>0</th>\n",
       "      <td>0</td>\n",
       "      <td>162</td>\n",
       "      <td>0</td>\n",
       "      <td>0</td>\n",
       "      <td>2</td>\n",
       "      <td>1</td>\n",
       "    </tr>\n",
       "  </tbody>\n",
       "</table>\n",
       "</div>"
      ],
      "text/plain": [
       "   cp  thalach  exang  oldpeak  slope  target\n",
       "0   0      162      0        0      2       1"
      ]
     },
     "execution_count": 8,
     "metadata": {},
     "output_type": "execute_result"
    }
   ],
   "source": [
    "df.mode()"
   ]
  },
  {
   "cell_type": "code",
   "execution_count": 9,
   "id": "b362ae7a-ebd1-45ad-afbe-7aeec023ff08",
   "metadata": {},
   "outputs": [],
   "source": [
    "# Determining whether chest pain influences heart disease in patients \n",
    "no_cardioDisease = df[df.target == 0]\n",
    "cardioDisease = df[df.target == 1]\n",
    "\n",
    "no_cardioDisease_pmf = thinkstats2.Pmf(no_cardioDisease.slope, label=\"No Heart Disease\")\n",
    "cardioDisease_pmf = thinkstats2.Pmf(cardioDisease.slope, label=\"Heart Disease\")"
   ]
  },
  {
   "cell_type": "code",
   "execution_count": 10,
   "id": "62877e22-1672-48e1-b959-65d1f44621a6",
   "metadata": {},
   "outputs": [
    {
     "data": {
      "image/png": "[encoded data removed]",
      "text/plain": [
       "<Figure size 864x432 with 2 Axes>"
      ]
     },
     "metadata": {
      "needs_background": "light"
     },
     "output_type": "display_data"
    }
   ],
   "source": [
    "# PMF plot of 'slope' \n",
    "width = 0.45\n",
    "axis = [-1, 3 , 0, 0.8]\n",
    "thinkplot.PrePlot(2, cols=2)\n",
    "thinkplot.Hist(no_cardioDisease_pmf, align=\"right\", width=width)\n",
    "thinkplot.Hist(cardioDisease_pmf, align=\"left\", width=width)\n",
    "thinkplot.Config(xlabel=\"Peak ST Segment\", ylabel=\"PMF\", axis=axis)\n",
    "\n",
    "thinkplot.PrePlot(2)\n",
    "thinkplot.SubPlot(2)\n",
    "thinkplot.Pmfs([no_cardioDisease_pmf, cardioDisease_pmf])\n",
    "thinkplot.Config(xlabel=\"Peak ST Segment\", axis=axis)"
   ]
  },
  {
   "cell_type": "code",
   "execution_count": 11,
   "id": "1595bd61-e785-432a-b683-aa9b9d4e334a",
   "metadata": {},
   "outputs": [
    {
     "data": {
      "image/png": "[encoded data removed]",
      "text/plain": [
       "<Figure size 432x288 with 1 Axes>"
      ]
     },
     "metadata": {
      "needs_background": "light"
     },
     "output_type": "display_data"
    },
    {
     "data": {
      "text/plain": [
       "<Figure size 576x432 with 0 Axes>"
      ]
     },
     "metadata": {},
     "output_type": "display_data"
    }
   ],
   "source": [
    "# Generating a CDF plot with heart rate\n",
    "cdf = thinkstats2.Cdf(df.thalach, label='Heart Rate')\n",
    "thinkplot.Cdf(cdf)\n",
    "thinkplot.Show(xlabel='Max Heart Rate', ylabel='CDF')"
   ]
  },
  {
   "cell_type": "code",
   "execution_count": 12,
   "id": "3491fe00-f758-4dac-a0bc-1c2525a0ab81",
   "metadata": {},
   "outputs": [
    {
     "name": "stdout",
     "output_type": "stream",
     "text": [
      "n, mean, std 931 150.12267250821466 21.695297583046774\n"
     ]
    },
    {
     "data": {
      "image/png": "[encoded data removed]",
      "text/plain": [
       "<Figure size 432x288 with 1 Axes>"
      ]
     },
     "metadata": {
      "needs_background": "light"
     },
     "output_type": "display_data"
    }
   ],
   "source": [
    "# Analytical distribution\n",
    "heart_rate = df.thalach\n",
    "\n",
    "# Normal Distribution\n",
    "def MakeNormalModel(rate):\n",
    "    cdf = thinkstats2.Cdf(rate, label=\"rate\")\n",
    "\n",
    "    mean, var = thinkstats2.TrimmedMeanVar(rate)\n",
    "    std = np.sqrt(var)\n",
    "    print(\"n, mean, std\", len(rate), mean, std)\n",
    "\n",
    "    xmin = mean - 4 * std\n",
    "    xmax = mean + 4 * std\n",
    "\n",
    "    xs, ps = thinkstats2.RenderNormalCdf(mean, std, xmin, xmax)\n",
    "    thinkplot.Plot(xs, ps, label=\"model\", linewidth=4, color=\"0.8\")\n",
    "    thinkplot.Cdf(cdf)\n",
    "\n",
    "tha = df.thalach\n",
    "MakeNormalModel(tha)\n",
    "thinkplot.Config(\n",
    "    title=\"Heart Rate, linear scale\",\n",
    "    xlabel=\"Rate\",\n",
    "    ylabel=\"CDF\",\n",
    "    loc=\"upper right\",\n",
    ")"
   ]
  },
  {
   "cell_type": "code",
   "execution_count": 13,
   "id": "0eee9e9f-981b-410b-8167-b0c6ef1cef19",
   "metadata": {},
   "outputs": [
    {
     "name": "stdout",
     "output_type": "stream",
     "text": [
      "n, mean, std 931 2.171544921343347 0.0666372590288774\n"
     ]
    },
    {
     "data": {
      "image/png": "[encoded data removed]",
      "text/plain": [
       "<Figure size 432x288 with 1 Axes>"
      ]
     },
     "metadata": {
      "needs_background": "light"
     },
     "output_type": "display_data"
    }
   ],
   "source": [
    "# Lognormal distribution\n",
    "log_rate = np.log10(heart_rate)\n",
    "MakeNormalModel(log_rate)\n",
    "thinkplot.Config(\n",
    "    title=\"Heart Rate, log scale\",\n",
    "    xlabel=\"Rate\",\n",
    "    ylabel=\"CDF\",\n",
    "    loc=\"upper right\",\n",
    ")"
   ]
  },
  {
   "cell_type": "code",
   "execution_count": 14,
   "id": "61303e56-89a0-4a4e-a28d-1f679360b8c3",
   "metadata": {},
   "outputs": [
    {
     "data": {
      "image/png": "[encoded data removed]",
      "text/plain": [
       "<Figure size 432x288 with 1 Axes>"
      ]
     },
     "metadata": {
      "needs_background": "light"
     },
     "output_type": "display_data"
    }
   ],
   "source": [
    "# exponential distribution\n",
    "thinkplot.Cdf(cdf, complement=True)\n",
    "thinkplot.Config(\n",
    "    xlabel=\"Rate\",\n",
    "    ylabel=\"CCDF\",\n",
    "    yscale=\"log\",\n",
    "    loc=\"upper right\",\n",
    ")"
   ]
  },
  {
   "cell_type": "code",
   "execution_count": 15,
   "id": "210e2594-1f80-435c-a0f1-c0976f9ef6c4",
   "metadata": {},
   "outputs": [
    {
     "data": {
      "image/png": "[encoded data removed]",
      "text/plain": [
       "<Figure size 432x288 with 1 Axes>"
      ]
     },
     "metadata": {
      "needs_background": "light"
     },
     "output_type": "display_data"
    }
   ],
   "source": [
    "# thalach vs target\n",
    "plt.scatter(df.thalach, df.target, c =\"blue\")\n",
    "\n",
    "plt.xlabel(\"Heart Rate\")\n",
    "plt.ylabel(\"Target\")\n",
    "plt.show()"
   ]
  },
  {
   "cell_type": "code",
   "execution_count": 16,
   "id": "17b3b95f-d8c1-4b83-9993-b05342ff611c",
   "metadata": {},
   "outputs": [
    {
     "data": {
      "image/png": "[encoded data removed]",
      "text/plain": [
       "<Figure size 432x288 with 1 Axes>"
      ]
     },
     "metadata": {
      "needs_background": "light"
     },
     "output_type": "display_data"
    }
   ],
   "source": [
    "# cp vs slope scatterplot\n",
    "plt.scatter(df.cp, df.slope, c =\"blue\")\n",
    "\n",
    "plt.xlabel(\"Chest Pain level\")\n",
    "plt.ylabel(\"ST\")\n",
    "plt.show()"
   ]
  },
  {
   "cell_type": "code",
   "execution_count": 17,
   "id": "c9ec6a41-0709-4673-af0b-4aa8b73603ad",
   "metadata": {},
   "outputs": [
    {
     "name": "stdout",
     "output_type": "stream",
     "text": [
      "Correlation test p-value: 0.00\n",
      "Correlation: 0.3173447791235082\n",
      "Covariance: 0.09164579393858278\n",
      "Spearman correlation: 0.34254944616659844\n"
     ]
    }
   ],
   "source": [
    "# Testing a correlation between peak exercise ST segment slope and target\n",
    "class CorrelationPermute(thinkstats2.HypothesisTest):\n",
    "\n",
    "    def TestStatistic(self, data):\n",
    "        xs, ys = data\n",
    "        test_stat = abs(thinkstats2.Corr(xs, ys))\n",
    "        return test_stat\n",
    "\n",
    "    def RunModel(self):\n",
    "        xs, ys = self.data\n",
    "        xs = np.random.permutation(xs)\n",
    "        return xs, ys\n",
    "    \n",
    "data = df.slope, df.target\n",
    "ht = CorrelationPermute(data)\n",
    "pvalue = ht.PValue()\n",
    "\n",
    "spearman_corr = thinkstats2.SpearmanCorr(df.slope, df.target)\n",
    "correlation = thinkstats2.Corr(df.slope, df.target)\n",
    "covariance = thinkstats2.Cov(df.slope, df.target)\n",
    "\n",
    "print(str.format('Correlation test p-value: {0:.2f}', pvalue))\n",
    "print(f\"Correlation: {correlation}\\nCovariance: {covariance}\\nSpearman correlation: {spearman_corr}\")"
   ]
  },
  {
   "cell_type": "code",
   "execution_count": 24,
   "id": "41cbe01f-a005-4627-94c0-813e6daa96c1",
   "metadata": {},
   "outputs": [
    {
     "name": "stdout",
     "output_type": "stream",
     "text": [
      "Correlation test p-value: 0.00\n",
      "Correlation: 0.4198547147261232\n",
      "Covariance: 4.746870244508001\n",
      "Spearman correlation: 0.42095496481139566\n"
     ]
    }
   ],
   "source": [
    "# Correlation statistics for thalach vs target\n",
    "data = df.thalach, df.target\n",
    "ht = CorrelationPermute(data)\n",
    "pvalue = ht.PValue()\n",
    "\n",
    "\n",
    "spearman_corr = thinkstats2.SpearmanCorr(df.thalach, df.target)\n",
    "correlation = thinkstats2.Corr(df.thalach, df.target)\n",
    "covariance = thinkstats2.Cov(df.thalach, df.target)\n",
    "\n",
    "print(str.format('Correlation test p-value: {0:.2f}', pvalue))\n",
    "print(f\"Correlation: {correlation}\\nCovariance: {covariance}\\nSpearman correlation: {spearman_corr}\")"
   ]
  },
  {
   "cell_type": "code",
   "execution_count": 25,
   "id": "55be0b4b-d426-41d9-a5c6-7117ed9f1e07",
   "metadata": {},
   "outputs": [
    {
     "name": "stdout",
     "output_type": "stream",
     "text": [
      "Correlation test p-value: 0.00\n",
      "Correlation: 0.42197210606046315\n",
      "Covariance: 0.2144616566735235\n",
      "Spearman correlation: 0.44779228370639157\n"
     ]
    }
   ],
   "source": [
    "# Correlation statistics for cp vs target\n",
    "data = df.cp, df.target\n",
    "ht = CorrelationPermute(data)\n",
    "pvalue = ht.PValue()\n",
    "\n",
    "spearman_corr = thinkstats2.SpearmanCorr(df.cp, df.target)\n",
    "correlation = thinkstats2.Corr(df.cp, df.target)\n",
    "covariance = thinkstats2.Cov(df.cp, df.target)\n",
    "\n",
    "print(str.format('Correlation test p-value: {0:.2f}', pvalue))\n",
    "print(f\"Correlation: {correlation}\\nCovariance: {covariance}\\nSpearman correlation: {spearman_corr}\")"
   ]
  },
  {
   "cell_type": "code",
   "execution_count": 26,
   "id": "d26f51da-4ba8-428e-a884-b519c04e772c",
   "metadata": {},
   "outputs": [
    {
     "name": "stdout",
     "output_type": "stream",
     "text": [
      "Correlation test p-value: 0.00\n",
      "Correlation: -0.4320823174104473\n",
      "Covariance: -0.09934111017916138\n",
      "Spearman correlation: -0.432082317410447\n"
     ]
    }
   ],
   "source": [
    "# Correlation statistics for exang vs target\n",
    "data = df.exang, df.target\n",
    "ht = CorrelationPermute(data)\n",
    "pvalue = ht.PValue()\n",
    "\n",
    "spearman_corr = thinkstats2.SpearmanCorr(df.exang, df.target)\n",
    "correlation = thinkstats2.Corr(df.exang, df.target)\n",
    "covariance = thinkstats2.Cov(df.exang, df.target)\n",
    "\n",
    "print(str.format('Correlation test p-value: {0:.2f}', pvalue))\n",
    "print(f\"Correlation: {correlation}\\nCovariance: {covariance}\\nSpearman correlation: {spearman_corr}\")"
   ]
  },
  {
   "cell_type": "code",
   "execution_count": 27,
   "id": "f73c3199-a51a-4af5-989d-301a6b1fc08d",
   "metadata": {},
   "outputs": [
    {
     "name": "stdout",
     "output_type": "stream",
     "text": [
      "Correlation test p-value: 0.00\n",
      "Correlation: -0.3929062665486184\n",
      "Covariance: -0.13890911104675907\n",
      "Spearman correlation: -0.3868584464664501\n"
     ]
    }
   ],
   "source": [
    "# Correlation statistics for oldpeark vs target\n",
    "data = df.oldpeak, df.target\n",
    "ht = CorrelationPermute(data)\n",
    "pvalue = ht.PValue()\n",
    "\n",
    "spearman_corr = thinkstats2.SpearmanCorr(df.oldpeak, df.target)\n",
    "correlation = thinkstats2.Corr(df.oldpeak, df.target)\n",
    "covariance = thinkstats2.Cov(df.oldpeak, df.target)\n",
    "\n",
    "print(str.format('Correlation test p-value: {0:.2f}', pvalue))\n",
    "print(f\"Correlation: {correlation}\\nCovariance: {covariance}\\nSpearman correlation: {spearman_corr}\")"
   ]
  },
  {
   "cell_type": "code",
   "execution_count": 22,
   "id": "85aad88d-d45e-4f4e-a447-abc798d9c90f",
   "metadata": {},
   "outputs": [
    {
     "name": "stdout",
     "output_type": "stream",
     "text": [
      "Optimization terminated successfully.\n",
      "         Current function value: 0.478913\n",
      "         Iterations 6\n"
     ]
    },
    {
     "data": {
      "text/html": [
       "<table class=\"simpletable\">\n",
       "<caption>Logit Regression Results</caption>\n",
       "<tr>\n",
       "  <th>Dep. Variable:</th>        <td>target</td>      <th>  No. Observations:  </th>  <td>   931</td>  \n",
       "</tr>\n",
       "<tr>\n",
       "  <th>Model:</th>                 <td>Logit</td>      <th>  Df Residuals:      </th>  <td>   925</td>  \n",
       "</tr>\n",
       "<tr>\n",
       "  <th>Method:</th>                 <td>MLE</td>       <th>  Df Model:          </th>  <td>     5</td>  \n",
       "</tr>\n",
       "<tr>\n",
       "  <th>Date:</th>            <td>Sun, 14 Aug 2022</td> <th>  Pseudo R-squ.:     </th>  <td>0.3029</td>  \n",
       "</tr>\n",
       "<tr>\n",
       "  <th>Time:</th>                <td>06:18:00</td>     <th>  Log-Likelihood:    </th> <td> -445.87</td> \n",
       "</tr>\n",
       "<tr>\n",
       "  <th>converged:</th>             <td>True</td>       <th>  LL-Null:           </th> <td> -639.61</td> \n",
       "</tr>\n",
       "<tr>\n",
       "  <th>Covariance Type:</th>     <td>nonrobust</td>    <th>  LLR p-value:       </th> <td>1.476e-81</td>\n",
       "</tr>\n",
       "</table>\n",
       "<table class=\"simpletable\">\n",
       "<tr>\n",
       "      <td></td>         <th>coef</th>     <th>std err</th>      <th>z</th>      <th>P>|z|</th>  <th>[0.025</th>    <th>0.975]</th>  \n",
       "</tr>\n",
       "<tr>\n",
       "  <th>Intercept</th> <td>   -3.2596</td> <td>    0.703</td> <td>   -4.637</td> <td> 0.000</td> <td>   -4.637</td> <td>   -1.882</td>\n",
       "</tr>\n",
       "<tr>\n",
       "  <th>cp</th>        <td>    0.7220</td> <td>    0.088</td> <td>    8.231</td> <td> 0.000</td> <td>    0.550</td> <td>    0.894</td>\n",
       "</tr>\n",
       "<tr>\n",
       "  <th>thalach</th>   <td>    0.0200</td> <td>    0.004</td> <td>    4.529</td> <td> 0.000</td> <td>    0.011</td> <td>    0.029</td>\n",
       "</tr>\n",
       "<tr>\n",
       "  <th>exang</th>     <td>   -1.0794</td> <td>    0.194</td> <td>   -5.575</td> <td> 0.000</td> <td>   -1.459</td> <td>   -0.700</td>\n",
       "</tr>\n",
       "<tr>\n",
       "  <th>oldpeak</th>   <td>   -0.7769</td> <td>    0.143</td> <td>   -5.438</td> <td> 0.000</td> <td>   -1.057</td> <td>   -0.497</td>\n",
       "</tr>\n",
       "<tr>\n",
       "  <th>slope</th>     <td>    0.3684</td> <td>    0.166</td> <td>    2.213</td> <td> 0.027</td> <td>    0.042</td> <td>    0.695</td>\n",
       "</tr>\n",
       "</table>"
      ],
      "text/plain": [
       "<class 'statsmodels.iolib.summary.Summary'>\n",
       "\"\"\"\n",
       "                           Logit Regression Results                           \n",
       "==============================================================================\n",
       "Dep. Variable:                 target   No. Observations:                  931\n",
       "Model:                          Logit   Df Residuals:                      925\n",
       "Method:                           MLE   Df Model:                            5\n",
       "Date:                Sun, 14 Aug 2022   Pseudo R-squ.:                  0.3029\n",
       "Time:                        06:18:00   Log-Likelihood:                -445.87\n",
       "converged:                       True   LL-Null:                       -639.61\n",
       "Covariance Type:            nonrobust   LLR p-value:                 1.476e-81\n",
       "==============================================================================\n",
       "                 coef    std err          z      P>|z|      [0.025      0.975]\n",
       "------------------------------------------------------------------------------\n",
       "Intercept     -3.2596      0.703     -4.637      0.000      -4.637      -1.882\n",
       "cp             0.7220      0.088      8.231      0.000       0.550       0.894\n",
       "thalach        0.0200      0.004      4.529      0.000       0.011       0.029\n",
       "exang         -1.0794      0.194     -5.575      0.000      -1.459      -0.700\n",
       "oldpeak       -0.7769      0.143     -5.438      0.000      -1.057      -0.497\n",
       "slope          0.3684      0.166      2.213      0.027       0.042       0.695\n",
       "==============================================================================\n",
       "\"\"\""
      ]
     },
     "execution_count": 22,
     "metadata": {},
     "output_type": "execute_result"
    }
   ],
   "source": [
    "# Conducting Logistic regression\n",
    "formula = 'target ~ cp + thalach + exang + oldpeak + slope'\n",
    "model = smf.logit(formula, data=df)\n",
    "results = model.fit()\n",
    "results.summary()"
   ]
  },
  {
   "cell_type": "code",
   "execution_count": null,
   "id": "b8a12515-c85c-420e-9c71-43d51b513758",
   "metadata": {},
   "outputs": [],
   "source": []
  }
 ],
 "metadata": {
  "kernelspec": {
   "display_name": "Python 3 (ipykernel)",
   "language": "python",
   "name": "python3"
  },
  "language_info": {
   "codemirror_mode": {
    "name": "ipython",
    "version": 3
   },
   "file_extension": ".py",
   "mimetype": "text/x-python",
   "name": "python",
   "nbconvert_exporter": "python",
   "pygments_lexer": "ipython3",
   "version": "3.9.12"
  }
 },
 "nbformat": 4,
 "nbformat_minor": 5
}
